{
  "nbformat": 4,
  "nbformat_minor": 0,
  "metadata": {
    "colab": {
      "name": "Fraud_Autoencoder.ipynb",
      "provenance": [],
      "collapsed_sections": [],
      "mount_file_id": "1vYj-06m3J6rVUqaBGZuArX-0qKuDXPox",
      "authorship_tag": "ABX9TyOhpWskFDx0RjmWw5wfBVbJ"
    },
    "kernelspec": {
      "name": "python3",
      "display_name": "Python 3"
    },
    "language_info": {
      "name": "python"
    }
  },
  "cells": [
    {
      "cell_type": "markdown",
      "source": [
        "## **Fraud detection**\n",
        "\n",
        "**Anomaly detection in credit cards transactions (frauds) using unsupervised deep learning model - Autoencoder.**\n",
        "\n",
        "The aim of this project is predict whether a given transaction was a fraud or not. In this case we will apply anomaly detection with Autoencoder - unsupervised deep learning model. For our analysis we will use the Python, mostly Tensorflow Keras library to illustrate the process of identifying outliers using an autoencoder. \n",
        "\n",
        "**Dataset:**\n",
        "\n",
        "The dataset used for credit cards fraud detection is derived from Kaggle.\n",
        "\n",
        "It contains transactions made by credit cards in two days in 2013 by European cardholders. There are 492 frauds out of 284,807 transactions. \n",
        "\n",
        "### **Import libriaries and data**"
      ],
      "metadata": {
        "id": "e4dnTUqhpV8R"
      }
    },
    {
      "cell_type": "code",
      "execution_count": null,
      "metadata": {
        "id": "0iUDR7ccpMQT"
      },
      "outputs": [],
      "source": [
        "import pandas as pd\n",
        "import numpy as np\n",
        "import seaborn as sns\n",
        "import matplotlib.pyplot as plt\n",
        "\n",
        "from sklearn.model_selection import train_test_split\n",
        "from sklearn.preprocessing import StandardScaler\n",
        "\n",
        "import tensorflow as tf\n",
        "from tensorflow.keras.models import Model\n",
        "from tensorflow.keras import layers, losses\n",
        "from tensorflow.keras.layers import Dense, Input\n",
        "from tensorflow.keras import regularizers\n",
        "from tensorflow.keras.callbacks import EarlyStopping\n",
        "\n",
        "from sklearn.metrics import classification_report, confusion_matrix, accuracy_score"
      ]
    },
    {
      "cell_type": "code",
      "source": [
        "print(tf.__version__)"
      ],
      "metadata": {
        "id": "s5139KoUpUJu",
        "colab": {
          "base_uri": "https://localhost:8080/"
        },
        "outputId": "a9f03328-5020-4e1b-b216-42d179ff473a"
      },
      "execution_count": null,
      "outputs": [
        {
          "output_type": "stream",
          "name": "stdout",
          "text": [
            "2.8.0\n"
          ]
        }
      ]
    },
    {
      "cell_type": "code",
      "source": [
        "df = pd.read_csv('creditcard.csv')\n",
        "df.head()"
      ],
      "metadata": {
        "id": "OgURLV5dpUQ6",
        "colab": {
          "base_uri": "https://localhost:8080/",
          "height": 300
        },
        "outputId": "7752c798-9c6d-47e8-efd4-6e00c38311ff"
      },
      "execution_count": null,
      "outputs": [
        {
          "output_type": "execute_result",
          "data": {
            "text/plain": [
              "   Time        V1        V2        V3        V4        V5        V6        V7  \\\n",
              "0   0.0 -1.359807 -0.072781  2.536347  1.378155 -0.338321  0.462388  0.239599   \n",
              "1   0.0  1.191857  0.266151  0.166480  0.448154  0.060018 -0.082361 -0.078803   \n",
              "2   1.0 -1.358354 -1.340163  1.773209  0.379780 -0.503198  1.800499  0.791461   \n",
              "3   1.0 -0.966272 -0.185226  1.792993 -0.863291 -0.010309  1.247203  0.237609   \n",
              "4   2.0 -1.158233  0.877737  1.548718  0.403034 -0.407193  0.095921  0.592941   \n",
              "\n",
              "         V8        V9  ...       V21       V22       V23       V24       V25  \\\n",
              "0  0.098698  0.363787  ... -0.018307  0.277838 -0.110474  0.066928  0.128539   \n",
              "1  0.085102 -0.255425  ... -0.225775 -0.638672  0.101288 -0.339846  0.167170   \n",
              "2  0.247676 -1.514654  ...  0.247998  0.771679  0.909412 -0.689281 -0.327642   \n",
              "3  0.377436 -1.387024  ... -0.108300  0.005274 -0.190321 -1.175575  0.647376   \n",
              "4 -0.270533  0.817739  ... -0.009431  0.798278 -0.137458  0.141267 -0.206010   \n",
              "\n",
              "        V26       V27       V28  Amount  Class  \n",
              "0 -0.189115  0.133558 -0.021053  149.62      0  \n",
              "1  0.125895 -0.008983  0.014724    2.69      0  \n",
              "2 -0.139097 -0.055353 -0.059752  378.66      0  \n",
              "3 -0.221929  0.062723  0.061458  123.50      0  \n",
              "4  0.502292  0.219422  0.215153   69.99      0  \n",
              "\n",
              "[5 rows x 31 columns]"
            ],
            "text/html": [
              "\n",
              "  <div id=\"df-81ef99f8-b7c0-495b-8ca2-f8d34a8fde97\">\n",
              "    <div class=\"colab-df-container\">\n",
              "      <div>\n",
              "<style scoped>\n",
              "    .dataframe tbody tr th:only-of-type {\n",
              "        vertical-align: middle;\n",
              "    }\n",
              "\n",
              "    .dataframe tbody tr th {\n",
              "        vertical-align: top;\n",
              "    }\n",
              "\n",
              "    .dataframe thead th {\n",
              "        text-align: right;\n",
              "    }\n",
              "</style>\n",
              "<table border=\"1\" class=\"dataframe\">\n",
              "  <thead>\n",
              "    <tr style=\"text-align: right;\">\n",
              "      <th></th>\n",
              "      <th>Time</th>\n",
              "      <th>V1</th>\n",
              "      <th>V2</th>\n",
              "      <th>V3</th>\n",
              "      <th>V4</th>\n",
              "      <th>V5</th>\n",
              "      <th>V6</th>\n",
              "      <th>V7</th>\n",
              "      <th>V8</th>\n",
              "      <th>V9</th>\n",
              "      <th>...</th>\n",
              "      <th>V21</th>\n",
              "      <th>V22</th>\n",
              "      <th>V23</th>\n",
              "      <th>V24</th>\n",
              "      <th>V25</th>\n",
              "      <th>V26</th>\n",
              "      <th>V27</th>\n",
              "      <th>V28</th>\n",
              "      <th>Amount</th>\n",
              "      <th>Class</th>\n",
              "    </tr>\n",
              "  </thead>\n",
              "  <tbody>\n",
              "    <tr>\n",
              "      <th>0</th>\n",
              "      <td>0.0</td>\n",
              "      <td>-1.359807</td>\n",
              "      <td>-0.072781</td>\n",
              "      <td>2.536347</td>\n",
              "      <td>1.378155</td>\n",
              "      <td>-0.338321</td>\n",
              "      <td>0.462388</td>\n",
              "      <td>0.239599</td>\n",
              "      <td>0.098698</td>\n",
              "      <td>0.363787</td>\n",
              "      <td>...</td>\n",
              "      <td>-0.018307</td>\n",
              "      <td>0.277838</td>\n",
              "      <td>-0.110474</td>\n",
              "      <td>0.066928</td>\n",
              "      <td>0.128539</td>\n",
              "      <td>-0.189115</td>\n",
              "      <td>0.133558</td>\n",
              "      <td>-0.021053</td>\n",
              "      <td>149.62</td>\n",
              "      <td>0</td>\n",
              "    </tr>\n",
              "    <tr>\n",
              "      <th>1</th>\n",
              "      <td>0.0</td>\n",
              "      <td>1.191857</td>\n",
              "      <td>0.266151</td>\n",
              "      <td>0.166480</td>\n",
              "      <td>0.448154</td>\n",
              "      <td>0.060018</td>\n",
              "      <td>-0.082361</td>\n",
              "      <td>-0.078803</td>\n",
              "      <td>0.085102</td>\n",
              "      <td>-0.255425</td>\n",
              "      <td>...</td>\n",
              "      <td>-0.225775</td>\n",
              "      <td>-0.638672</td>\n",
              "      <td>0.101288</td>\n",
              "      <td>-0.339846</td>\n",
              "      <td>0.167170</td>\n",
              "      <td>0.125895</td>\n",
              "      <td>-0.008983</td>\n",
              "      <td>0.014724</td>\n",
              "      <td>2.69</td>\n",
              "      <td>0</td>\n",
              "    </tr>\n",
              "    <tr>\n",
              "      <th>2</th>\n",
              "      <td>1.0</td>\n",
              "      <td>-1.358354</td>\n",
              "      <td>-1.340163</td>\n",
              "      <td>1.773209</td>\n",
              "      <td>0.379780</td>\n",
              "      <td>-0.503198</td>\n",
              "      <td>1.800499</td>\n",
              "      <td>0.791461</td>\n",
              "      <td>0.247676</td>\n",
              "      <td>-1.514654</td>\n",
              "      <td>...</td>\n",
              "      <td>0.247998</td>\n",
              "      <td>0.771679</td>\n",
              "      <td>0.909412</td>\n",
              "      <td>-0.689281</td>\n",
              "      <td>-0.327642</td>\n",
              "      <td>-0.139097</td>\n",
              "      <td>-0.055353</td>\n",
              "      <td>-0.059752</td>\n",
              "      <td>378.66</td>\n",
              "      <td>0</td>\n",
              "    </tr>\n",
              "    <tr>\n",
              "      <th>3</th>\n",
              "      <td>1.0</td>\n",
              "      <td>-0.966272</td>\n",
              "      <td>-0.185226</td>\n",
              "      <td>1.792993</td>\n",
              "      <td>-0.863291</td>\n",
              "      <td>-0.010309</td>\n",
              "      <td>1.247203</td>\n",
              "      <td>0.237609</td>\n",
              "      <td>0.377436</td>\n",
              "      <td>-1.387024</td>\n",
              "      <td>...</td>\n",
              "      <td>-0.108300</td>\n",
              "      <td>0.005274</td>\n",
              "      <td>-0.190321</td>\n",
              "      <td>-1.175575</td>\n",
              "      <td>0.647376</td>\n",
              "      <td>-0.221929</td>\n",
              "      <td>0.062723</td>\n",
              "      <td>0.061458</td>\n",
              "      <td>123.50</td>\n",
              "      <td>0</td>\n",
              "    </tr>\n",
              "    <tr>\n",
              "      <th>4</th>\n",
              "      <td>2.0</td>\n",
              "      <td>-1.158233</td>\n",
              "      <td>0.877737</td>\n",
              "      <td>1.548718</td>\n",
              "      <td>0.403034</td>\n",
              "      <td>-0.407193</td>\n",
              "      <td>0.095921</td>\n",
              "      <td>0.592941</td>\n",
              "      <td>-0.270533</td>\n",
              "      <td>0.817739</td>\n",
              "      <td>...</td>\n",
              "      <td>-0.009431</td>\n",
              "      <td>0.798278</td>\n",
              "      <td>-0.137458</td>\n",
              "      <td>0.141267</td>\n",
              "      <td>-0.206010</td>\n",
              "      <td>0.502292</td>\n",
              "      <td>0.219422</td>\n",
              "      <td>0.215153</td>\n",
              "      <td>69.99</td>\n",
              "      <td>0</td>\n",
              "    </tr>\n",
              "  </tbody>\n",
              "</table>\n",
              "<p>5 rows × 31 columns</p>\n",
              "</div>\n",
              "      <button class=\"colab-df-convert\" onclick=\"convertToInteractive('df-81ef99f8-b7c0-495b-8ca2-f8d34a8fde97')\"\n",
              "              title=\"Convert this dataframe to an interactive table.\"\n",
              "              style=\"display:none;\">\n",
              "        \n",
              "  <svg xmlns=\"http://www.w3.org/2000/svg\" height=\"24px\"viewBox=\"0 0 24 24\"\n",
              "       width=\"24px\">\n",
              "    <path d=\"M0 0h24v24H0V0z\" fill=\"none\"/>\n",
              "    <path d=\"M18.56 5.44l.94 2.06.94-2.06 2.06-.94-2.06-.94-.94-2.06-.94 2.06-2.06.94zm-11 1L8.5 8.5l.94-2.06 2.06-.94-2.06-.94L8.5 2.5l-.94 2.06-2.06.94zm10 10l.94 2.06.94-2.06 2.06-.94-2.06-.94-.94-2.06-.94 2.06-2.06.94z\"/><path d=\"M17.41 7.96l-1.37-1.37c-.4-.4-.92-.59-1.43-.59-.52 0-1.04.2-1.43.59L10.3 9.45l-7.72 7.72c-.78.78-.78 2.05 0 2.83L4 21.41c.39.39.9.59 1.41.59.51 0 1.02-.2 1.41-.59l7.78-7.78 2.81-2.81c.8-.78.8-2.07 0-2.86zM5.41 20L4 18.59l7.72-7.72 1.47 1.35L5.41 20z\"/>\n",
              "  </svg>\n",
              "      </button>\n",
              "      \n",
              "  <style>\n",
              "    .colab-df-container {\n",
              "      display:flex;\n",
              "      flex-wrap:wrap;\n",
              "      gap: 12px;\n",
              "    }\n",
              "\n",
              "    .colab-df-convert {\n",
              "      background-color: #E8F0FE;\n",
              "      border: none;\n",
              "      border-radius: 50%;\n",
              "      cursor: pointer;\n",
              "      display: none;\n",
              "      fill: #1967D2;\n",
              "      height: 32px;\n",
              "      padding: 0 0 0 0;\n",
              "      width: 32px;\n",
              "    }\n",
              "\n",
              "    .colab-df-convert:hover {\n",
              "      background-color: #E2EBFA;\n",
              "      box-shadow: 0px 1px 2px rgba(60, 64, 67, 0.3), 0px 1px 3px 1px rgba(60, 64, 67, 0.15);\n",
              "      fill: #174EA6;\n",
              "    }\n",
              "\n",
              "    [theme=dark] .colab-df-convert {\n",
              "      background-color: #3B4455;\n",
              "      fill: #D2E3FC;\n",
              "    }\n",
              "\n",
              "    [theme=dark] .colab-df-convert:hover {\n",
              "      background-color: #434B5C;\n",
              "      box-shadow: 0px 1px 3px 1px rgba(0, 0, 0, 0.15);\n",
              "      filter: drop-shadow(0px 1px 2px rgba(0, 0, 0, 0.3));\n",
              "      fill: #FFFFFF;\n",
              "    }\n",
              "  </style>\n",
              "\n",
              "      <script>\n",
              "        const buttonEl =\n",
              "          document.querySelector('#df-81ef99f8-b7c0-495b-8ca2-f8d34a8fde97 button.colab-df-convert');\n",
              "        buttonEl.style.display =\n",
              "          google.colab.kernel.accessAllowed ? 'block' : 'none';\n",
              "\n",
              "        async function convertToInteractive(key) {\n",
              "          const element = document.querySelector('#df-81ef99f8-b7c0-495b-8ca2-f8d34a8fde97');\n",
              "          const dataTable =\n",
              "            await google.colab.kernel.invokeFunction('convertToInteractive',\n",
              "                                                     [key], {});\n",
              "          if (!dataTable) return;\n",
              "\n",
              "          const docLinkHtml = 'Like what you see? Visit the ' +\n",
              "            '<a target=\"_blank\" href=https://colab.research.google.com/notebooks/data_table.ipynb>data table notebook</a>'\n",
              "            + ' to learn more about interactive tables.';\n",
              "          element.innerHTML = '';\n",
              "          dataTable['output_type'] = 'display_data';\n",
              "          await google.colab.output.renderOutput(dataTable, element);\n",
              "          const docLink = document.createElement('div');\n",
              "          docLink.innerHTML = docLinkHtml;\n",
              "          element.appendChild(docLink);\n",
              "        }\n",
              "      </script>\n",
              "    </div>\n",
              "  </div>\n",
              "  "
            ]
          },
          "metadata": {},
          "execution_count": 4
        }
      ]
    },
    {
      "cell_type": "markdown",
      "source": [
        "**First observations:**"
      ],
      "metadata": {
        "id": "n7eg5q_w7XbK"
      }
    },
    {
      "cell_type": "code",
      "source": [
        "df.shape"
      ],
      "metadata": {
        "id": "ELxvHdHDrNAD",
        "colab": {
          "base_uri": "https://localhost:8080/"
        },
        "outputId": "c8da4dd9-0ceb-4cbd-c3ee-3d5503f8ab0d"
      },
      "execution_count": null,
      "outputs": [
        {
          "output_type": "execute_result",
          "data": {
            "text/plain": [
              "(284807, 31)"
            ]
          },
          "metadata": {},
          "execution_count": 5
        }
      ]
    },
    {
      "cell_type": "code",
      "source": [
        "df.info()"
      ],
      "metadata": {
        "id": "hh4MuublrNCw",
        "colab": {
          "base_uri": "https://localhost:8080/"
        },
        "outputId": "687c8ede-7ae7-45a7-8587-8cbad45506ce"
      },
      "execution_count": null,
      "outputs": [
        {
          "output_type": "stream",
          "name": "stdout",
          "text": [
            "<class 'pandas.core.frame.DataFrame'>\n",
            "RangeIndex: 284807 entries, 0 to 284806\n",
            "Data columns (total 31 columns):\n",
            " #   Column  Non-Null Count   Dtype  \n",
            "---  ------  --------------   -----  \n",
            " 0   Time    284807 non-null  float64\n",
            " 1   V1      284807 non-null  float64\n",
            " 2   V2      284807 non-null  float64\n",
            " 3   V3      284807 non-null  float64\n",
            " 4   V4      284807 non-null  float64\n",
            " 5   V5      284807 non-null  float64\n",
            " 6   V6      284807 non-null  float64\n",
            " 7   V7      284807 non-null  float64\n",
            " 8   V8      284807 non-null  float64\n",
            " 9   V9      284807 non-null  float64\n",
            " 10  V10     284807 non-null  float64\n",
            " 11  V11     284807 non-null  float64\n",
            " 12  V12     284807 non-null  float64\n",
            " 13  V13     284807 non-null  float64\n",
            " 14  V14     284807 non-null  float64\n",
            " 15  V15     284807 non-null  float64\n",
            " 16  V16     284807 non-null  float64\n",
            " 17  V17     284807 non-null  float64\n",
            " 18  V18     284807 non-null  float64\n",
            " 19  V19     284807 non-null  float64\n",
            " 20  V20     284807 non-null  float64\n",
            " 21  V21     284807 non-null  float64\n",
            " 22  V22     284807 non-null  float64\n",
            " 23  V23     284807 non-null  float64\n",
            " 24  V24     284807 non-null  float64\n",
            " 25  V25     284807 non-null  float64\n",
            " 26  V26     284807 non-null  float64\n",
            " 27  V27     284807 non-null  float64\n",
            " 28  V28     284807 non-null  float64\n",
            " 29  Amount  284807 non-null  float64\n",
            " 30  Class   284807 non-null  int64  \n",
            "dtypes: float64(30), int64(1)\n",
            "memory usage: 67.4 MB\n"
          ]
        }
      ]
    },
    {
      "cell_type": "markdown",
      "source": [
        "Checking missing values:"
      ],
      "metadata": {
        "id": "Ad8vu1xZ7ayp"
      }
    },
    {
      "cell_type": "code",
      "source": [
        "df.isnull().sum()"
      ],
      "metadata": {
        "id": "pXsOtK9frNFs",
        "colab": {
          "base_uri": "https://localhost:8080/"
        },
        "outputId": "dc1ddcde-63b5-41c9-935d-80a95e6bb30b"
      },
      "execution_count": null,
      "outputs": [
        {
          "output_type": "execute_result",
          "data": {
            "text/plain": [
              "Time      0\n",
              "V1        0\n",
              "V2        0\n",
              "V3        0\n",
              "V4        0\n",
              "V5        0\n",
              "V6        0\n",
              "V7        0\n",
              "V8        0\n",
              "V9        0\n",
              "V10       0\n",
              "V11       0\n",
              "V12       0\n",
              "V13       0\n",
              "V14       0\n",
              "V15       0\n",
              "V16       0\n",
              "V17       0\n",
              "V18       0\n",
              "V19       0\n",
              "V20       0\n",
              "V21       0\n",
              "V22       0\n",
              "V23       0\n",
              "V24       0\n",
              "V25       0\n",
              "V26       0\n",
              "V27       0\n",
              "V28       0\n",
              "Amount    0\n",
              "Class     0\n",
              "dtype: int64"
            ]
          },
          "metadata": {},
          "execution_count": 7
        }
      ]
    },
    {
      "cell_type": "markdown",
      "source": [
        "The dataset consists only numerical values and majority features (V1 to V28) are the result of ‘Principal Component Analysis (PCA)’ transformation. The ‘Time’ and ‘Amount’ features are not transformed data. There are no missing values in the dataset."
      ],
      "metadata": {
        "id": "x5a21WTH7f3f"
      }
    },
    {
      "cell_type": "markdown",
      "source": [
        "### **Data preparation**\n",
        "\n",
        "**Data normalization**\n",
        "\n",
        "The majority of our data are normalized (V1 to V28 values) which are result of PCA analysis. We also have to normalized rest of the data (Time and Amount) so that their high values do not adversely affect the training of the model."
      ],
      "metadata": {
        "id": "pqgtS2GgrbS8"
      }
    },
    {
      "cell_type": "code",
      "source": [
        "df_sc = df.copy()"
      ],
      "metadata": {
        "id": "_eNE24kDrUxb"
      },
      "execution_count": null,
      "outputs": []
    },
    {
      "cell_type": "code",
      "source": [
        "df_sc['Time'] = StandardScaler().fit_transform(df_sc['Time'].values.reshape(-1, 1))\n",
        "df_sc['Amount'] = StandardScaler().fit_transform(df_sc['Amount'].values.reshape(-1, 1))"
      ],
      "metadata": {
        "id": "-lRWfe74rU7U"
      },
      "execution_count": null,
      "outputs": []
    },
    {
      "cell_type": "markdown",
      "source": [
        "**Splitting dataset into train and test data**\n",
        "\n",
        "We prepare our data assumming that frauds are anomalies in our transactions. To better build anomaly detection model we create train data with only normal transactions without fraud. The frauds go into test data only.\n"
      ],
      "metadata": {
        "id": "OQYPE2kkrkIZ"
      }
    },
    {
      "cell_type": "code",
      "source": [
        "train, test = train_test_split(df_sc, test_size=0.3, random_state = 10)"
      ],
      "metadata": {
        "id": "fzTK8Cl8rU93"
      },
      "execution_count": null,
      "outputs": []
    },
    {
      "cell_type": "code",
      "source": [
        "X_train = train[train['Class'] == 0]\n",
        "X_train = X_train.drop(['Class'], axis=1)\n",
        " \n",
        "X_test = test.drop(['Class'], axis=1)\n",
        "y_test = test['Class'] "
      ],
      "metadata": {
        "id": "RNBukcHyrVA2"
      },
      "execution_count": null,
      "outputs": []
    },
    {
      "cell_type": "code",
      "source": [
        "print(f'X_train shape: {X_train.shape};')\n",
        "print(f'X_test shape: {X_test.shape}; y_test shape: {y_test.shape}')"
      ],
      "metadata": {
        "id": "-6pvgTrpsK0u",
        "colab": {
          "base_uri": "https://localhost:8080/"
        },
        "outputId": "1c314954-4837-431c-e855-c671681090c0"
      },
      "execution_count": null,
      "outputs": [
        {
          "output_type": "stream",
          "name": "stdout",
          "text": [
            "X_train shape: (199013, 30);\n",
            "X_test shape: (85443, 30); y_test shape: (85443,)\n"
          ]
        }
      ]
    },
    {
      "cell_type": "markdown",
      "source": [
        "### **Build model**\n",
        "\n",
        "We build autoencoder model for anomaly detection.\n",
        "\n",
        "The Autoencoder is a neural network which learns to copy its inputs to outputs, i.e. it learn the compressed representation of raw data. It is based on unsupervised machine learning that applies the backpropagation technique and sets the target values equal to the inputs. Autoencoder contains two parts named encoder and decoder. The encoder compresses the input into a latent space representation while the decoder decodes the encoded image back to the original image of the same dimension. \n",
        "\n",
        "In our case we used the architecture for deep autoencoders, we reduce the amount of input data to a smaller representation of neurons. \n",
        "We create the input layer, encoder layers and decoder layers. In the input layer, we specifie the shape of the dataset (dataset has 30 features so the shape is 30). First three layers are used for our encoder and consists of layers with 16, 8, and 4 neurons, respectively. The last three layers are the decoder consisting of layers with 8, 16, and 30 neurons, respectively. Additionally, L1 regularization will be used during training.\n",
        "After defining the input, encoder and decoder layers, we create the autoencoder model to combine the layers."
      ],
      "metadata": {
        "id": "R1FyKfCQsOc3"
      }
    },
    {
      "cell_type": "code",
      "source": [
        "learning_rate = 0.00001\n",
        "input_dim = X_train.shape[1]\n",
        " \n",
        "input_layer = Input(shape=(input_dim, ))\n",
        "\n",
        "encoder = Dense(16, activation='elu', activity_regularizer=regularizers.l1(learning_rate))(input_layer)\n",
        "encoder = Dense(8, activation='relu')(encoder)\n",
        "encoder = Dense(4, activation='relu')(encoder)\n",
        "\n",
        "decoder = Dense(8, activation='relu')(encoder)\n",
        "decoder = Dense(16, activation='relu')(decoder)\n",
        "decoder = Dense(input_dim, activation='elu')(decoder)\n",
        " \n",
        "autoencoder = Model(inputs=input_layer, outputs=decoder)\n"
      ],
      "metadata": {
        "id": "1r1pIbB5sK3_"
      },
      "execution_count": null,
      "outputs": []
    },
    {
      "cell_type": "markdown",
      "source": [
        "We compile the model with the optimizer of adam and the loss of mse (Mean Squared Error). We also define an early stopping method to avoid training longer than needed."
      ],
      "metadata": {
        "id": "0yRv8zVSIzlN"
      }
    },
    {
      "cell_type": "code",
      "source": [
        "autoencoder.compile(optimizer='adam',\n",
        "                    metrics=['accuracy'],\n",
        "                    loss='mean_squared_error')\n",
        "\n",
        " \n",
        "EarlyStop = EarlyStopping(monitor='accuracy', patience=5, verbose=1)\n",
        " \n",
        "autoencoder.summary()"
      ],
      "metadata": {
        "id": "_9xjSMnysK7d",
        "colab": {
          "base_uri": "https://localhost:8080/"
        },
        "outputId": "d23d61e2-1d39-4d7c-9115-25f24afa1497"
      },
      "execution_count": null,
      "outputs": [
        {
          "output_type": "stream",
          "name": "stdout",
          "text": [
            "Model: \"model\"\n",
            "_________________________________________________________________\n",
            " Layer (type)                Output Shape              Param #   \n",
            "=================================================================\n",
            " input_1 (InputLayer)        [(None, 30)]              0         \n",
            "                                                                 \n",
            " dense (Dense)               (None, 16)                496       \n",
            "                                                                 \n",
            " dense_1 (Dense)             (None, 8)                 136       \n",
            "                                                                 \n",
            " dense_2 (Dense)             (None, 4)                 36        \n",
            "                                                                 \n",
            " dense_3 (Dense)             (None, 8)                 40        \n",
            "                                                                 \n",
            " dense_4 (Dense)             (None, 16)                144       \n",
            "                                                                 \n",
            " dense_5 (Dense)             (None, 30)                510       \n",
            "                                                                 \n",
            "=================================================================\n",
            "Total params: 1,362\n",
            "Trainable params: 1,362\n",
            "Non-trainable params: 0\n",
            "_________________________________________________________________\n"
          ]
        }
      ]
    },
    {
      "cell_type": "markdown",
      "source": [
        "We train the model for 20 epoch:"
      ],
      "metadata": {
        "id": "vlJhVRHr8oMn"
      }
    },
    {
      "cell_type": "code",
      "source": [
        "history = autoencoder.fit(X_train, X_train, \n",
        "          epochs=20,\n",
        "          batch_size = 64,\n",
        "          validation_data = (X_test, X_test),\n",
        "          callbacks = EarlyStop,\n",
        "          shuffle=True)"
      ],
      "metadata": {
        "id": "lDJs8GoWsK-l",
        "colab": {
          "base_uri": "https://localhost:8080/"
        },
        "outputId": "16f5b0e8-79f4-455f-a188-efd4105f4aea"
      },
      "execution_count": null,
      "outputs": [
        {
          "output_type": "stream",
          "name": "stdout",
          "text": [
            "Epoch 1/20\n",
            "3110/3110 [==============================] - 11s 3ms/step - loss: 0.7114 - accuracy: 0.4716 - val_loss: 0.6838 - val_accuracy: 0.5588\n",
            "Epoch 2/20\n",
            "3110/3110 [==============================] - 10s 3ms/step - loss: 0.6214 - accuracy: 0.5681 - val_loss: 0.6484 - val_accuracy: 0.5728\n",
            "Epoch 3/20\n",
            "3110/3110 [==============================] - 9s 3ms/step - loss: 0.5987 - accuracy: 0.5731 - val_loss: 0.6351 - val_accuracy: 0.5747\n",
            "Epoch 4/20\n",
            "3110/3110 [==============================] - 8s 3ms/step - loss: 0.5880 - accuracy: 0.5752 - val_loss: 0.6248 - val_accuracy: 0.5780\n",
            "Epoch 5/20\n",
            "3110/3110 [==============================] - 8s 3ms/step - loss: 0.5795 - accuracy: 0.5809 - val_loss: 0.6171 - val_accuracy: 0.5836\n",
            "Epoch 6/20\n",
            "3110/3110 [==============================] - 10s 3ms/step - loss: 0.5732 - accuracy: 0.5832 - val_loss: 0.6120 - val_accuracy: 0.5819\n",
            "Epoch 7/20\n",
            "3110/3110 [==============================] - 9s 3ms/step - loss: 0.5670 - accuracy: 0.5842 - val_loss: 0.6051 - val_accuracy: 0.5836\n",
            "Epoch 8/20\n",
            "3110/3110 [==============================] - 9s 3ms/step - loss: 0.5593 - accuracy: 0.5883 - val_loss: 0.5965 - val_accuracy: 0.5919\n",
            "Epoch 9/20\n",
            "3110/3110 [==============================] - 9s 3ms/step - loss: 0.5521 - accuracy: 0.5926 - val_loss: 0.5946 - val_accuracy: 0.5909\n",
            "Epoch 10/20\n",
            "3110/3110 [==============================] - 9s 3ms/step - loss: 0.5484 - accuracy: 0.5939 - val_loss: 0.5899 - val_accuracy: 0.5931\n",
            "Epoch 11/20\n",
            "3110/3110 [==============================] - 9s 3ms/step - loss: 0.5467 - accuracy: 0.5949 - val_loss: 0.5874 - val_accuracy: 0.5931\n",
            "Epoch 12/20\n",
            "3110/3110 [==============================] - 9s 3ms/step - loss: 0.5443 - accuracy: 0.5976 - val_loss: 0.5864 - val_accuracy: 0.5958\n",
            "Epoch 13/20\n",
            "3110/3110 [==============================] - 10s 3ms/step - loss: 0.5414 - accuracy: 0.5989 - val_loss: 0.5844 - val_accuracy: 0.6012\n",
            "Epoch 14/20\n",
            "3110/3110 [==============================] - 10s 3ms/step - loss: 0.5400 - accuracy: 0.6000 - val_loss: 0.5821 - val_accuracy: 0.5970\n",
            "Epoch 15/20\n",
            "3110/3110 [==============================] - 10s 3ms/step - loss: 0.5388 - accuracy: 0.5998 - val_loss: 0.5814 - val_accuracy: 0.5985\n",
            "Epoch 16/20\n",
            "3110/3110 [==============================] - 10s 3ms/step - loss: 0.5368 - accuracy: 0.6005 - val_loss: 0.5797 - val_accuracy: 0.6007\n",
            "Epoch 17/20\n",
            "3110/3110 [==============================] - 9s 3ms/step - loss: 0.5365 - accuracy: 0.6013 - val_loss: 0.5793 - val_accuracy: 0.5998\n",
            "Epoch 18/20\n",
            "3110/3110 [==============================] - 10s 3ms/step - loss: 0.5344 - accuracy: 0.6020 - val_loss: 0.5787 - val_accuracy: 0.6018\n",
            "Epoch 19/20\n",
            "3110/3110 [==============================] - 9s 3ms/step - loss: 0.5333 - accuracy: 0.6026 - val_loss: 0.5764 - val_accuracy: 0.6030\n",
            "Epoch 20/20\n",
            "3110/3110 [==============================] - 9s 3ms/step - loss: 0.5324 - accuracy: 0.6026 - val_loss: 0.5839 - val_accuracy: 0.6035\n"
          ]
        }
      ]
    },
    {
      "cell_type": "markdown",
      "source": [
        "Visualization of training:"
      ],
      "metadata": {
        "id": "t_1aqSnr9Yjz"
      }
    },
    {
      "cell_type": "code",
      "source": [
        "def plot_graphs(history, string):\n",
        "  plt.plot(history.history[string])\n",
        "  plt.plot(history.history['val_'+string])\n",
        "  plt.xlabel(\"Epochs\")\n",
        "  plt.ylabel(string)\n",
        "  plt.legend([string, 'val_'+string])\n",
        "  plt.show()\n",
        "  "
      ],
      "metadata": {
        "id": "bqDvefF4FBFO"
      },
      "execution_count": null,
      "outputs": []
    },
    {
      "cell_type": "code",
      "source": [
        "plot_graphs(history, \"accuracy\")\n",
        "plot_graphs(history, \"loss\")"
      ],
      "metadata": {
        "colab": {
          "base_uri": "https://localhost:8080/",
          "height": 541
        },
        "id": "Vi7Xyrf687Da",
        "outputId": "135978a5-9848-455d-a50b-f2014aa7db28"
      },
      "execution_count": null,
      "outputs": [
        {
          "output_type": "display_data",
          "data": {
            "text/plain": [
              "<Figure size 432x288 with 1 Axes>"
            ],
            "image/png": "[encoded data removed]"
          },
          "metadata": {
            "needs_background": "light"
          }
        },
        {
          "output_type": "display_data",
          "data": {
            "text/plain": [
              "<Figure size 432x288 with 1 Axes>"
            ],
            "image/png": "[encoded data removed]"
          },
          "metadata": {
            "needs_background": "light"
          }
        }
      ]
    },
    {
      "cell_type": "markdown",
      "source": [
        "\n",
        "This charts show the training and validation loss and accuracy changes during the model fitting. We can see that both training and validation losses decrease with the increase of epochs."
      ],
      "metadata": {
        "id": "le8H839z-T0l"
      }
    },
    {
      "cell_type": "markdown",
      "source": [
        "### **Model evaluation**\n",
        "\n",
        "In this step we use our model to predict the outliers. We use `predict` method to  get the reconstruction value for the testing data set containing the usual data points and the outliers."
      ],
      "metadata": {
        "id": "xbffgelm_6oY"
      }
    },
    {
      "cell_type": "code",
      "source": [
        "prediction = autoencoder.predict(X_test)"
      ],
      "metadata": {
        "id": "Ese1bhHz87P6"
      },
      "execution_count": null,
      "outputs": []
    },
    {
      "cell_type": "markdown",
      "source": [
        "Now we look at the error distribution:"
      ],
      "metadata": {
        "id": "uYeHZF98MLj3"
      }
    },
    {
      "cell_type": "code",
      "source": [
        "mse = np.mean(np.power(X_test - prediction, 2), axis=1)\n",
        "error_df = pd.DataFrame({'reconstruction_error': mse, 'class': y_test})"
      ],
      "metadata": {
        "id": "xnTp27bp87Tk"
      },
      "execution_count": null,
      "outputs": []
    },
    {
      "cell_type": "code",
      "source": [
        "error_df.describe()"
      ],
      "metadata": {
        "colab": {
          "base_uri": "https://localhost:8080/",
          "height": 300
        },
        "id": "9X4v658DHgRr",
        "outputId": "b50612ce-d246-47dc-99e1-4bed1ad8f67b"
      },
      "execution_count": null,
      "outputs": [
        {
          "output_type": "execute_result",
          "data": {
            "text/plain": [
              "       reconstruction_error        class\n",
              "count          85443.000000  85443.00000\n",
              "mean               0.583696      0.00165\n",
              "std                3.052918      0.04059\n",
              "min                0.046345      0.00000\n",
              "25%                0.177264      0.00000\n",
              "50%                0.282487      0.00000\n",
              "75%                0.465414      0.00000\n",
              "max              277.353120      1.00000"
            ],
            "text/html": [
              "\n",
              "  <div id=\"df-4faeefb8-f9d4-4e8d-b928-96f49f4a03d3\">\n",
              "    <div class=\"colab-df-container\">\n",
              "      <div>\n",
              "<style scoped>\n",
              "    .dataframe tbody tr th:only-of-type {\n",
              "        vertical-align: middle;\n",
              "    }\n",
              "\n",
              "    .dataframe tbody tr th {\n",
              "        vertical-align: top;\n",
              "    }\n",
              "\n",
              "    .dataframe thead th {\n",
              "        text-align: right;\n",
              "    }\n",
              "</style>\n",
              "<table border=\"1\" class=\"dataframe\">\n",
              "  <thead>\n",
              "    <tr style=\"text-align: right;\">\n",
              "      <th></th>\n",
              "      <th>reconstruction_error</th>\n",
              "      <th>class</th>\n",
              "    </tr>\n",
              "  </thead>\n",
              "  <tbody>\n",
              "    <tr>\n",
              "      <th>count</th>\n",
              "      <td>85443.000000</td>\n",
              "      <td>85443.00000</td>\n",
              "    </tr>\n",
              "    <tr>\n",
              "      <th>mean</th>\n",
              "      <td>0.583696</td>\n",
              "      <td>0.00165</td>\n",
              "    </tr>\n",
              "    <tr>\n",
              "      <th>std</th>\n",
              "      <td>3.052918</td>\n",
              "      <td>0.04059</td>\n",
              "    </tr>\n",
              "    <tr>\n",
              "      <th>min</th>\n",
              "      <td>0.046345</td>\n",
              "      <td>0.00000</td>\n",
              "    </tr>\n",
              "    <tr>\n",
              "      <th>25%</th>\n",
              "      <td>0.177264</td>\n",
              "      <td>0.00000</td>\n",
              "    </tr>\n",
              "    <tr>\n",
              "      <th>50%</th>\n",
              "      <td>0.282487</td>\n",
              "      <td>0.00000</td>\n",
              "    </tr>\n",
              "    <tr>\n",
              "      <th>75%</th>\n",
              "      <td>0.465414</td>\n",
              "      <td>0.00000</td>\n",
              "    </tr>\n",
              "    <tr>\n",
              "      <th>max</th>\n",
              "      <td>277.353120</td>\n",
              "      <td>1.00000</td>\n",
              "    </tr>\n",
              "  </tbody>\n",
              "</table>\n",
              "</div>\n",
              "      <button class=\"colab-df-convert\" onclick=\"convertToInteractive('df-4faeefb8-f9d4-4e8d-b928-96f49f4a03d3')\"\n",
              "              title=\"Convert this dataframe to an interactive table.\"\n",
              "              style=\"display:none;\">\n",
              "        \n",
              "  <svg xmlns=\"http://www.w3.org/2000/svg\" height=\"24px\"viewBox=\"0 0 24 24\"\n",
              "       width=\"24px\">\n",
              "    <path d=\"M0 0h24v24H0V0z\" fill=\"none\"/>\n",
              "    <path d=\"M18.56 5.44l.94 2.06.94-2.06 2.06-.94-2.06-.94-.94-2.06-.94 2.06-2.06.94zm-11 1L8.5 8.5l.94-2.06 2.06-.94-2.06-.94L8.5 2.5l-.94 2.06-2.06.94zm10 10l.94 2.06.94-2.06 2.06-.94-2.06-.94-.94-2.06-.94 2.06-2.06.94z\"/><path d=\"M17.41 7.96l-1.37-1.37c-.4-.4-.92-.59-1.43-.59-.52 0-1.04.2-1.43.59L10.3 9.45l-7.72 7.72c-.78.78-.78 2.05 0 2.83L4 21.41c.39.39.9.59 1.41.59.51 0 1.02-.2 1.41-.59l7.78-7.78 2.81-2.81c.8-.78.8-2.07 0-2.86zM5.41 20L4 18.59l7.72-7.72 1.47 1.35L5.41 20z\"/>\n",
              "  </svg>\n",
              "      </button>\n",
              "      \n",
              "  <style>\n",
              "    .colab-df-container {\n",
              "      display:flex;\n",
              "      flex-wrap:wrap;\n",
              "      gap: 12px;\n",
              "    }\n",
              "\n",
              "    .colab-df-convert {\n",
              "      background-color: #E8F0FE;\n",
              "      border: none;\n",
              "      border-radius: 50%;\n",
              "      cursor: pointer;\n",
              "      display: none;\n",
              "      fill: #1967D2;\n",
              "      height: 32px;\n",
              "      padding: 0 0 0 0;\n",
              "      width: 32px;\n",
              "    }\n",
              "\n",
              "    .colab-df-convert:hover {\n",
              "      background-color: #E2EBFA;\n",
              "      box-shadow: 0px 1px 2px rgba(60, 64, 67, 0.3), 0px 1px 3px 1px rgba(60, 64, 67, 0.15);\n",
              "      fill: #174EA6;\n",
              "    }\n",
              "\n",
              "    [theme=dark] .colab-df-convert {\n",
              "      background-color: #3B4455;\n",
              "      fill: #D2E3FC;\n",
              "    }\n",
              "\n",
              "    [theme=dark] .colab-df-convert:hover {\n",
              "      background-color: #434B5C;\n",
              "      box-shadow: 0px 1px 3px 1px rgba(0, 0, 0, 0.15);\n",
              "      filter: drop-shadow(0px 1px 2px rgba(0, 0, 0, 0.3));\n",
              "      fill: #FFFFFF;\n",
              "    }\n",
              "  </style>\n",
              "\n",
              "      <script>\n",
              "        const buttonEl =\n",
              "          document.querySelector('#df-4faeefb8-f9d4-4e8d-b928-96f49f4a03d3 button.colab-df-convert');\n",
              "        buttonEl.style.display =\n",
              "          google.colab.kernel.accessAllowed ? 'block' : 'none';\n",
              "\n",
              "        async function convertToInteractive(key) {\n",
              "          const element = document.querySelector('#df-4faeefb8-f9d4-4e8d-b928-96f49f4a03d3');\n",
              "          const dataTable =\n",
              "            await google.colab.kernel.invokeFunction('convertToInteractive',\n",
              "                                                     [key], {});\n",
              "          if (!dataTable) return;\n",
              "\n",
              "          const docLinkHtml = 'Like what you see? Visit the ' +\n",
              "            '<a target=\"_blank\" href=https://colab.research.google.com/notebooks/data_table.ipynb>data table notebook</a>'\n",
              "            + ' to learn more about interactive tables.';\n",
              "          element.innerHTML = '';\n",
              "          dataTable['output_type'] = 'display_data';\n",
              "          await google.colab.output.renderOutput(dataTable, element);\n",
              "          const docLink = document.createElement('div');\n",
              "          docLink.innerHTML = docLinkHtml;\n",
              "          element.appendChild(docLink);\n",
              "        }\n",
              "      </script>\n",
              "    </div>\n",
              "  </div>\n",
              "  "
            ]
          },
          "metadata": {},
          "execution_count": 32
        }
      ]
    },
    {
      "cell_type": "markdown",
      "source": [
        "Reconstruction error histogram on test sample:"
      ],
      "metadata": {
        "id": "dr4z3LWtWU45"
      }
    },
    {
      "cell_type": "code",
      "source": [
        "bins = 50\n",
        "plt.figure(figsize=(12, 6))\n",
        "plt.hist(error_df[error_df['class'] == 0]['reconstruction_error'], bins, alpha=1, density=True, label='Normal')\n",
        "plt.hist(error_df[error_df['class'] == 1]['reconstruction_error'], bins, alpha=0.6, density=True, label='Fraud', color='crimson')\n",
        "plt.legend(loc='upper right')\n",
        "plt.title(\"Reconstruction error histogram on test sample\")\n",
        "plt.xlabel(\"Reconstruction error\")\n",
        "plt.ylabel(\"Percentage of transactions (%)\");\n",
        "plt.show()"
      ],
      "metadata": {
        "colab": {
          "base_uri": "https://localhost:8080/",
          "height": 404
        },
        "id": "oOjPK-28MExt",
        "outputId": "3393d3bb-d489-49ec-8a6c-9bdadb131802"
      },
      "execution_count": null,
      "outputs": [
        {
          "output_type": "display_data",
          "data": {
            "text/plain": [
              "<Figure size 864x432 with 1 Axes>"
            ],
            "image/png": "[encoded data removed]"
          },
          "metadata": {
            "needs_background": "light"
          }
        }
      ]
    },
    {
      "cell_type": "markdown",
      "source": [
        "From chart above we can see that most of the transactions with a high spread are actually frauds.\n",
        "\n",
        "\n",
        "**Reconstruction Error vs Threshold Check**\n",
        "\n",
        "In order to predict whether or not a new/unseen transaction is normal or fraud, we’ll calculate the reconstruction error from the transaction data itself. We define a threshold based on which\n",
        "we will predicted normal data points. If the error is larger than a  threshold, we’ll mark it as a fraud (since our model should have a low error on normal transactions). In our case the threshold is 3."
      ],
      "metadata": {
        "id": "izwlYnayRIGs"
      }
    },
    {
      "cell_type": "code",
      "source": [
        "threshold=3\n",
        "\n",
        "groups = error_df.groupby('class')\n",
        "fig, ax = plt.subplots(figsize=(12, 6))\n",
        "\n",
        "for name, group in groups:\n",
        "    ax.plot(group.index, group.reconstruction_error, marker='o', ms=3.5, linestyle='',\n",
        "            label= \"Fraud\" if name == 1 else \"Normal\")\n",
        "ax.hlines(threshold, ax.get_xlim()[0], ax.get_xlim()[1], colors=\"r\", zorder=100, label='Threshold')\n",
        "ax.legend()\n",
        "plt.title(\"Reconstruction error for different classes\")\n",
        "plt.ylabel(\"Reconstruction error\")\n",
        "plt.xlabel(\"Data point index\")\n",
        "plt.show();"
      ],
      "metadata": {
        "colab": {
          "base_uri": "https://localhost:8080/",
          "height": 404
        },
        "id": "FbbgA3KbMhwC",
        "outputId": "48db77c5-7c63-41d5-9551-4233721bc140"
      },
      "execution_count": null,
      "outputs": [
        {
          "output_type": "display_data",
          "data": {
            "text/plain": [
              "<Figure size 864x432 with 1 Axes>"
            ],
            "image/png": "[encoded data removed]"
          },
          "metadata": {
            "needs_background": "light"
          }
        }
      ]
    },
    {
      "cell_type": "markdown",
      "source": [
        "We see that our model  seems to catch a lot of the fraud cases. We can also increase or decrease the value of the threshold, depending on the problem.\n",
        "\n",
        "\n",
        "We also check the prediction performance:"
      ],
      "metadata": {
        "id": "IG83lqQ7TWDt"
      }
    },
    {
      "cell_type": "code",
      "source": [
        "threshold_prediction = [0 if i < threshold else 1 for i in mse]\n",
        "\n",
        "print(classification_report(y_test, threshold_prediction))"
      ],
      "metadata": {
        "colab": {
          "base_uri": "https://localhost:8080/"
        },
        "id": "6KQsbvgJN1Fm",
        "outputId": "3a807fac-e80a-4be1-f356-709d460b62a3"
      },
      "execution_count": null,
      "outputs": [
        {
          "output_type": "stream",
          "name": "stdout",
          "text": [
            "              precision    recall  f1-score   support\n",
            "\n",
            "           0       1.00      0.98      0.99     85302\n",
            "           1       0.08      0.83      0.14       141\n",
            "\n",
            "    accuracy                           0.98     85443\n",
            "   macro avg       0.54      0.91      0.57     85443\n",
            "weighted avg       1.00      0.98      0.99     85443\n",
            "\n"
          ]
        }
      ]
    },
    {
      "cell_type": "markdown",
      "source": [
        "The recall value of 0.83 shows that around 83% of the outliers were captured by the autoencoder.\n",
        "\n",
        "**Confusion Matrix**"
      ],
      "metadata": {
        "id": "bFWqahyqUDuf"
      }
    },
    {
      "cell_type": "code",
      "source": [
        "y_pred = [1 if e > threshold else 0 for e in error_df.reconstruction_error.values]\n",
        "conf_matrix = confusion_matrix(error_df['class'], y_pred)\n",
        "\n",
        "plt.figure(figsize=(7, 5))\n",
        "sns.heatmap(conf_matrix, xticklabels=['Normal','Fraud'], \n",
        "            yticklabels=['Normal','Fraud'],\n",
        "            annot=True, fmt=\"d\");\n",
        "plt.title(\"Confusion matrix\")\n",
        "plt.ylabel('True class')\n",
        "plt.xlabel('Predicted class')\n",
        "plt.show()"
      ],
      "metadata": {
        "colab": {
          "base_uri": "https://localhost:8080/",
          "height": 350
        },
        "id": "TRZnAB4nUDQT",
        "outputId": "ae673b80-099f-4e1b-bcab-c16fc60ed7b6"
      },
      "execution_count": null,
      "outputs": [
        {
          "output_type": "display_data",
          "data": {
            "text/plain": [
              "<Figure size 504x360 with 2 Axes>"
            ],
            "image/png": "[encoded data removed]"
          },
          "metadata": {
            "needs_background": "light"
          }
        }
      ]
    },
    {
      "cell_type": "markdown",
      "source": [
        "Looking at the confusion matrix we see pretty low False Negative rate and 117 frauds correctly classified by the model. Only stayed 24 of fraud transactions not correctly classified by the model."
      ],
      "metadata": {
        "id": "20WbdNQyRDgK"
      }
    },
    {
      "cell_type": "markdown",
      "source": [
        "### **Summary**\n",
        "\n",
        "\n",
        "\n",
        "This project was aimed to fraud detection in credit cards transactions. In this part we used  autoencoders to fraud anomaly detection. We built the model only on one-class examples (normal transactions) with no suspicious transactions. The architecture which we have used for deep autoencoders it seems to be good and catching fraud transactions.  We evaluated our model with a few methods such as reconstruction error,  recall and confusion matrix. Our model  captures 83% of the anomaly data points (based on recall value) and  has the low False Negatives rate and will be not miss many anomalies. "
      ],
      "metadata": {
        "id": "2fB4NemC9Oq1"
      }
    }
  ]
}